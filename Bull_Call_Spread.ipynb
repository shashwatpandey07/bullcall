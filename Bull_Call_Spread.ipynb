{
  "cells": [
    {
      "cell_type": "markdown",
      "metadata": {
        "id": "7xDoWE7dE2cf"
      },
      "source": [
        "# Bull Call Spread on Bank Nifty Data"
      ]
    },
    {
      "cell_type": "markdown",
      "metadata": {
        "id": "8OVX7m3oE2cm"
      },
      "source": [
        "https://zerodha.com/varsity/chapter/bull-call-spread/"
      ]
    },
    {
      "cell_type": "markdown",
      "metadata": {
        "id": "KksWFXRsE2co"
      },
      "source": [
        "In this assignment I have given the code for bull call spread on bank nifty data for 1 month managing the delta of 0.8 <br/>\n",
        "Also rather than buying at the money call option, we have bought bank nifty futures at the start of the month and we will hedge it by selling OTM call option."
      ]
    },
    {
      "cell_type": "markdown",
      "metadata": {
        "id": "0lWRZW5NE2cq"
      },
      "source": [
        "## Importing important libraries"
      ]
    },
    {
      "cell_type": "code",
      "execution_count": 5,
      "metadata": {
        "id": "7Lb_SRTGE2cs",
        "colab": {
          "base_uri": "https://localhost:8080/"
        },
        "outputId": "ae4f867c-0f52-4655-df40-f74701f9fef8"
      },
      "outputs": [
        {
          "output_type": "stream",
          "name": "stdout",
          "text": [
            "Looking in indexes: https://pypi.org/simple, https://us-python.pkg.dev/colab-wheels/public/simple/\n",
            "Requirement already satisfied: py_vollib in /usr/local/lib/python3.8/dist-packages (1.0.1)\n",
            "Requirement already satisfied: py-lets-be-rational in /usr/local/lib/python3.8/dist-packages (from py_vollib) (1.0.1)\n",
            "Requirement already satisfied: simplejson in /usr/local/lib/python3.8/dist-packages (from py_vollib) (3.18.1)\n",
            "Requirement already satisfied: numpy in /usr/local/lib/python3.8/dist-packages (from py_vollib) (1.21.6)\n",
            "Requirement already satisfied: pandas in /usr/local/lib/python3.8/dist-packages (from py_vollib) (1.3.5)\n",
            "Requirement already satisfied: scipy in /usr/local/lib/python3.8/dist-packages (from py_vollib) (1.7.3)\n",
            "Requirement already satisfied: pytz>=2017.3 in /usr/local/lib/python3.8/dist-packages (from pandas->py_vollib) (2022.7)\n",
            "Requirement already satisfied: python-dateutil>=2.7.3 in /usr/local/lib/python3.8/dist-packages (from pandas->py_vollib) (2.8.2)\n",
            "Requirement already satisfied: six>=1.5 in /usr/local/lib/python3.8/dist-packages (from python-dateutil>=2.7.3->pandas->py_vollib) (1.15.0)\n"
          ]
        }
      ],
      "source": [
        "pip install py_vollib"
      ]
    },
    {
      "cell_type": "code",
      "source": [
        "pip install yfinance"
      ],
      "metadata": {
        "colab": {
          "base_uri": "https://localhost:8080/"
        },
        "id": "CeWG9lQqqoMX",
        "outputId": "08041a2a-6431-4632-9d37-787c47a7812e"
      },
      "execution_count": 6,
      "outputs": [
        {
          "output_type": "stream",
          "name": "stdout",
          "text": [
            "Looking in indexes: https://pypi.org/simple, https://us-python.pkg.dev/colab-wheels/public/simple/\n",
            "Requirement already satisfied: yfinance in /usr/local/lib/python3.8/dist-packages (0.2.3)\n",
            "Requirement already satisfied: html5lib>=1.1 in /usr/local/lib/python3.8/dist-packages (from yfinance) (1.1)\n",
            "Requirement already satisfied: pytz>=2022.5 in /usr/local/lib/python3.8/dist-packages (from yfinance) (2022.7)\n",
            "Requirement already satisfied: pandas>=1.3.0 in /usr/local/lib/python3.8/dist-packages (from yfinance) (1.3.5)\n",
            "Requirement already satisfied: beautifulsoup4>=4.11.1 in /usr/local/lib/python3.8/dist-packages (from yfinance) (4.11.1)\n",
            "Requirement already satisfied: requests>=2.26 in /usr/local/lib/python3.8/dist-packages (from yfinance) (2.28.1)\n",
            "Requirement already satisfied: appdirs>=1.4.4 in /usr/local/lib/python3.8/dist-packages (from yfinance) (1.4.4)\n",
            "Requirement already satisfied: numpy>=1.16.5 in /usr/local/lib/python3.8/dist-packages (from yfinance) (1.21.6)\n",
            "Requirement already satisfied: cryptography>=3.3.2 in /usr/local/lib/python3.8/dist-packages (from yfinance) (39.0.0)\n",
            "Requirement already satisfied: lxml>=4.9.1 in /usr/local/lib/python3.8/dist-packages (from yfinance) (4.9.2)\n",
            "Requirement already satisfied: multitasking>=0.0.7 in /usr/local/lib/python3.8/dist-packages (from yfinance) (0.0.11)\n",
            "Requirement already satisfied: frozendict>=2.3.4 in /usr/local/lib/python3.8/dist-packages (from yfinance) (2.3.4)\n",
            "Requirement already satisfied: soupsieve>1.2 in /usr/local/lib/python3.8/dist-packages (from beautifulsoup4>=4.11.1->yfinance) (2.3.2.post1)\n",
            "Requirement already satisfied: cffi>=1.12 in /usr/local/lib/python3.8/dist-packages (from cryptography>=3.3.2->yfinance) (1.15.1)\n",
            "Requirement already satisfied: six>=1.9 in /usr/local/lib/python3.8/dist-packages (from html5lib>=1.1->yfinance) (1.15.0)\n",
            "Requirement already satisfied: webencodings in /usr/local/lib/python3.8/dist-packages (from html5lib>=1.1->yfinance) (0.5.1)\n",
            "Requirement already satisfied: python-dateutil>=2.7.3 in /usr/local/lib/python3.8/dist-packages (from pandas>=1.3.0->yfinance) (2.8.2)\n",
            "Requirement already satisfied: certifi>=2017.4.17 in /usr/local/lib/python3.8/dist-packages (from requests>=2.26->yfinance) (2022.12.7)\n",
            "Requirement already satisfied: urllib3<1.27,>=1.21.1 in /usr/local/lib/python3.8/dist-packages (from requests>=2.26->yfinance) (1.24.3)\n",
            "Requirement already satisfied: charset-normalizer<3,>=2 in /usr/local/lib/python3.8/dist-packages (from requests>=2.26->yfinance) (2.1.1)\n",
            "Requirement already satisfied: idna<4,>=2.5 in /usr/local/lib/python3.8/dist-packages (from requests>=2.26->yfinance) (2.10)\n",
            "Requirement already satisfied: pycparser in /usr/local/lib/python3.8/dist-packages (from cffi>=1.12->cryptography>=3.3.2->yfinance) (2.21)\n"
          ]
        }
      ]
    },
    {
      "cell_type": "code",
      "execution_count": 7,
      "metadata": {
        "id": "tSeXWcnpE2cu"
      },
      "outputs": [],
      "source": [
        "import pandas as pd\n",
        "import matplotlib.pyplot as plt\n",
        "import numpy as np\n",
        "\n",
        "from datetime import datetime\n",
        "\n",
        "import warnings\n",
        "warnings.filterwarnings(\"ignore\")\n",
        "\n",
        "# to fetch data \n",
        "import yfinance as yf\n",
        "\n",
        "import scipy.stats as ss\n",
        "\n",
        "import py_vollib.black_scholes.greeks.analytical as derivatives\n",
        "\n",
        "import math"
      ]
    },
    {
      "cell_type": "markdown",
      "metadata": {
        "id": "oU7NYmRME2cw"
      },
      "source": [
        "## Importing data"
      ]
    },
    {
      "cell_type": "code",
      "execution_count": 8,
      "metadata": {
        "id": "AoKgnZsdE2cx",
        "colab": {
          "base_uri": "https://localhost:8080/",
          "height": 441
        },
        "outputId": "78cc11e7-52e8-4986-b59d-f5828b0262c1"
      },
      "outputs": [
        {
          "output_type": "execute_result",
          "data": {
            "text/plain": [
              "      Symbol         Date       Expiry      Open      High       Low  \\\n",
              "0  BANKNIFTY  28-May-2021  24-Jun-2021  35499.00  35670.00  35150.00   \n",
              "1  BANKNIFTY  31-May-2021  24-Jun-2021  35280.00  35650.00  35063.15   \n",
              "2  BANKNIFTY  01-Jun-2021  24-Jun-2021  35677.95  35797.45  35313.95   \n",
              "3  BANKNIFTY  02-Jun-2021  24-Jun-2021  35380.00  35560.00  35180.00   \n",
              "4  BANKNIFTY  03-Jun-2021  24-Jun-2021  35662.20  35890.00  35553.00   \n",
              "\n",
              "      Close       LTP  Settle Price  No. of contracts  Turnover in Lacs  \\\n",
              "0  35321.80  35394.05      35321.80            151658        1340811.02   \n",
              "1  35602.90  35578.25      35602.90            141916        1257088.18   \n",
              "2  35454.10  35470.00      35454.10            145631        1292727.92   \n",
              "3  35524.25  35540.00      35524.25            113559        1003669.30   \n",
              "4  35781.95  35775.00      35781.95            121729        1086929.72   \n",
              "\n",
              "   Open Int  Change in OI Underlying Value   \n",
              "0   1745000         27775          35141.45  \n",
              "1   1723450        -21550                 -  \n",
              "2   1731125          7675                 -  \n",
              "3   1700025        -31100                 -  \n",
              "4   1690250         -9775                 -  "
            ],
            "text/html": [
              "\n",
              "  <div id=\"df-66f7f8bf-0467-4666-8f44-e6451b6b6395\">\n",
              "    <div class=\"colab-df-container\">\n",
              "      <div>\n",
              "<style scoped>\n",
              "    .dataframe tbody tr th:only-of-type {\n",
              "        vertical-align: middle;\n",
              "    }\n",
              "\n",
              "    .dataframe tbody tr th {\n",
              "        vertical-align: top;\n",
              "    }\n",
              "\n",
              "    .dataframe thead th {\n",
              "        text-align: right;\n",
              "    }\n",
              "</style>\n",
              "<table border=\"1\" class=\"dataframe\">\n",
              "  <thead>\n",
              "    <tr style=\"text-align: right;\">\n",
              "      <th></th>\n",
              "      <th>Symbol</th>\n",
              "      <th>Date</th>\n",
              "      <th>Expiry</th>\n",
              "      <th>Open</th>\n",
              "      <th>High</th>\n",
              "      <th>Low</th>\n",
              "      <th>Close</th>\n",
              "      <th>LTP</th>\n",
              "      <th>Settle Price</th>\n",
              "      <th>No. of contracts</th>\n",
              "      <th>Turnover in Lacs</th>\n",
              "      <th>Open Int</th>\n",
              "      <th>Change in OI</th>\n",
              "      <th>Underlying Value</th>\n",
              "    </tr>\n",
              "  </thead>\n",
              "  <tbody>\n",
              "    <tr>\n",
              "      <th>0</th>\n",
              "      <td>BANKNIFTY</td>\n",
              "      <td>28-May-2021</td>\n",
              "      <td>24-Jun-2021</td>\n",
              "      <td>35499.00</td>\n",
              "      <td>35670.00</td>\n",
              "      <td>35150.00</td>\n",
              "      <td>35321.80</td>\n",
              "      <td>35394.05</td>\n",
              "      <td>35321.80</td>\n",
              "      <td>151658</td>\n",
              "      <td>1340811.02</td>\n",
              "      <td>1745000</td>\n",
              "      <td>27775</td>\n",
              "      <td>35141.45</td>\n",
              "    </tr>\n",
              "    <tr>\n",
              "      <th>1</th>\n",
              "      <td>BANKNIFTY</td>\n",
              "      <td>31-May-2021</td>\n",
              "      <td>24-Jun-2021</td>\n",
              "      <td>35280.00</td>\n",
              "      <td>35650.00</td>\n",
              "      <td>35063.15</td>\n",
              "      <td>35602.90</td>\n",
              "      <td>35578.25</td>\n",
              "      <td>35602.90</td>\n",
              "      <td>141916</td>\n",
              "      <td>1257088.18</td>\n",
              "      <td>1723450</td>\n",
              "      <td>-21550</td>\n",
              "      <td>-</td>\n",
              "    </tr>\n",
              "    <tr>\n",
              "      <th>2</th>\n",
              "      <td>BANKNIFTY</td>\n",
              "      <td>01-Jun-2021</td>\n",
              "      <td>24-Jun-2021</td>\n",
              "      <td>35677.95</td>\n",
              "      <td>35797.45</td>\n",
              "      <td>35313.95</td>\n",
              "      <td>35454.10</td>\n",
              "      <td>35470.00</td>\n",
              "      <td>35454.10</td>\n",
              "      <td>145631</td>\n",
              "      <td>1292727.92</td>\n",
              "      <td>1731125</td>\n",
              "      <td>7675</td>\n",
              "      <td>-</td>\n",
              "    </tr>\n",
              "    <tr>\n",
              "      <th>3</th>\n",
              "      <td>BANKNIFTY</td>\n",
              "      <td>02-Jun-2021</td>\n",
              "      <td>24-Jun-2021</td>\n",
              "      <td>35380.00</td>\n",
              "      <td>35560.00</td>\n",
              "      <td>35180.00</td>\n",
              "      <td>35524.25</td>\n",
              "      <td>35540.00</td>\n",
              "      <td>35524.25</td>\n",
              "      <td>113559</td>\n",
              "      <td>1003669.30</td>\n",
              "      <td>1700025</td>\n",
              "      <td>-31100</td>\n",
              "      <td>-</td>\n",
              "    </tr>\n",
              "    <tr>\n",
              "      <th>4</th>\n",
              "      <td>BANKNIFTY</td>\n",
              "      <td>03-Jun-2021</td>\n",
              "      <td>24-Jun-2021</td>\n",
              "      <td>35662.20</td>\n",
              "      <td>35890.00</td>\n",
              "      <td>35553.00</td>\n",
              "      <td>35781.95</td>\n",
              "      <td>35775.00</td>\n",
              "      <td>35781.95</td>\n",
              "      <td>121729</td>\n",
              "      <td>1086929.72</td>\n",
              "      <td>1690250</td>\n",
              "      <td>-9775</td>\n",
              "      <td>-</td>\n",
              "    </tr>\n",
              "  </tbody>\n",
              "</table>\n",
              "</div>\n",
              "      <button class=\"colab-df-convert\" onclick=\"convertToInteractive('df-66f7f8bf-0467-4666-8f44-e6451b6b6395')\"\n",
              "              title=\"Convert this dataframe to an interactive table.\"\n",
              "              style=\"display:none;\">\n",
              "        \n",
              "  <svg xmlns=\"http://www.w3.org/2000/svg\" height=\"24px\"viewBox=\"0 0 24 24\"\n",
              "       width=\"24px\">\n",
              "    <path d=\"M0 0h24v24H0V0z\" fill=\"none\"/>\n",
              "    <path d=\"M18.56 5.44l.94 2.06.94-2.06 2.06-.94-2.06-.94-.94-2.06-.94 2.06-2.06.94zm-11 1L8.5 8.5l.94-2.06 2.06-.94-2.06-.94L8.5 2.5l-.94 2.06-2.06.94zm10 10l.94 2.06.94-2.06 2.06-.94-2.06-.94-.94-2.06-.94 2.06-2.06.94z\"/><path d=\"M17.41 7.96l-1.37-1.37c-.4-.4-.92-.59-1.43-.59-.52 0-1.04.2-1.43.59L10.3 9.45l-7.72 7.72c-.78.78-.78 2.05 0 2.83L4 21.41c.39.39.9.59 1.41.59.51 0 1.02-.2 1.41-.59l7.78-7.78 2.81-2.81c.8-.78.8-2.07 0-2.86zM5.41 20L4 18.59l7.72-7.72 1.47 1.35L5.41 20z\"/>\n",
              "  </svg>\n",
              "      </button>\n",
              "      \n",
              "  <style>\n",
              "    .colab-df-container {\n",
              "      display:flex;\n",
              "      flex-wrap:wrap;\n",
              "      gap: 12px;\n",
              "    }\n",
              "\n",
              "    .colab-df-convert {\n",
              "      background-color: #E8F0FE;\n",
              "      border: none;\n",
              "      border-radius: 50%;\n",
              "      cursor: pointer;\n",
              "      display: none;\n",
              "      fill: #1967D2;\n",
              "      height: 32px;\n",
              "      padding: 0 0 0 0;\n",
              "      width: 32px;\n",
              "    }\n",
              "\n",
              "    .colab-df-convert:hover {\n",
              "      background-color: #E2EBFA;\n",
              "      box-shadow: 0px 1px 2px rgba(60, 64, 67, 0.3), 0px 1px 3px 1px rgba(60, 64, 67, 0.15);\n",
              "      fill: #174EA6;\n",
              "    }\n",
              "\n",
              "    [theme=dark] .colab-df-convert {\n",
              "      background-color: #3B4455;\n",
              "      fill: #D2E3FC;\n",
              "    }\n",
              "\n",
              "    [theme=dark] .colab-df-convert:hover {\n",
              "      background-color: #434B5C;\n",
              "      box-shadow: 0px 1px 3px 1px rgba(0, 0, 0, 0.15);\n",
              "      filter: drop-shadow(0px 1px 2px rgba(0, 0, 0, 0.3));\n",
              "      fill: #FFFFFF;\n",
              "    }\n",
              "  </style>\n",
              "\n",
              "      <script>\n",
              "        const buttonEl =\n",
              "          document.querySelector('#df-66f7f8bf-0467-4666-8f44-e6451b6b6395 button.colab-df-convert');\n",
              "        buttonEl.style.display =\n",
              "          google.colab.kernel.accessAllowed ? 'block' : 'none';\n",
              "\n",
              "        async function convertToInteractive(key) {\n",
              "          const element = document.querySelector('#df-66f7f8bf-0467-4666-8f44-e6451b6b6395');\n",
              "          const dataTable =\n",
              "            await google.colab.kernel.invokeFunction('convertToInteractive',\n",
              "                                                     [key], {});\n",
              "          if (!dataTable) return;\n",
              "\n",
              "          const docLinkHtml = 'Like what you see? Visit the ' +\n",
              "            '<a target=\"_blank\" href=https://colab.research.google.com/notebooks/data_table.ipynb>data table notebook</a>'\n",
              "            + ' to learn more about interactive tables.';\n",
              "          element.innerHTML = '';\n",
              "          dataTable['output_type'] = 'display_data';\n",
              "          await google.colab.output.renderOutput(dataTable, element);\n",
              "          const docLink = document.createElement('div');\n",
              "          docLink.innerHTML = docLinkHtml;\n",
              "          element.appendChild(docLink);\n",
              "        }\n",
              "      </script>\n",
              "    </div>\n",
              "  </div>\n",
              "  "
            ]
          },
          "metadata": {},
          "execution_count": 8
        }
      ],
      "source": [
        "df_fut = pd.read_csv('/content/FUTIDX_BANKNIFTY_28-May-2021_TO_24-Jun-2021.csv')  #Fill in with the address of where you downloaded the file. You can check in properties of the file\n",
        "df_fut.head()"
      ]
    },
    {
      "cell_type": "code",
      "execution_count": 9,
      "metadata": {
        "id": "dWfJrfbtE2cy",
        "colab": {
          "base_uri": "https://localhost:8080/",
          "height": 478
        },
        "outputId": "32734d2a-8bf1-4a93-97af-b946881cb1f8"
      },
      "outputs": [
        {
          "output_type": "execute_result",
          "data": {
            "text/plain": [
              "      Symbol         Date       Expiry Option Type  Strike Price    Open  \\\n",
              "0  BANKNIFTY  28-May-2021  24-Jun-2021          CE         36000  849.95   \n",
              "1  BANKNIFTY  31-May-2021  24-Jun-2021          CE         36000  693.90   \n",
              "2  BANKNIFTY  01-Jun-2021  24-Jun-2021          CE         36000  782.00   \n",
              "3  BANKNIFTY  02-Jun-2021  24-Jun-2021          CE         36000  575.50   \n",
              "4  BANKNIFTY  03-Jun-2021  24-Jun-2021          CE         36000  659.05   \n",
              "\n",
              "     High     Low   Close     LTP  Settle Price  No. of contracts  \\\n",
              "0  924.50  665.60  730.80  743.30        730.80             26704   \n",
              "1  790.00  598.10  772.95  752.05        772.95             19525   \n",
              "2  832.00  633.35  660.65  661.00        660.65             31536   \n",
              "3  625.95  533.85  612.70  606.85        612.70             19060   \n",
              "4  753.90  596.50  698.40  696.00        698.40             24549   \n",
              "\n",
              "   Turnover in Lacs  Premium Turnover in Lacs  Open Int  Change in OI  \\\n",
              "0         245464.26                   5128.26    320700        116225   \n",
              "1         179242.57                   3517.57    331150         10450   \n",
              "2         289503.11                   5679.11    313700        -17450   \n",
              "3         174293.32                   2753.32    324475         10775   \n",
              "4         225062.12                   4121.12    328425          3950   \n",
              "\n",
              "  Underlying Value  \n",
              "0         35141.45  \n",
              "1                -  \n",
              "2                -  \n",
              "3                -  \n",
              "4                -  "
            ],
            "text/html": [
              "\n",
              "  <div id=\"df-8762a4d4-b2d8-4672-a576-15db7b111964\">\n",
              "    <div class=\"colab-df-container\">\n",
              "      <div>\n",
              "<style scoped>\n",
              "    .dataframe tbody tr th:only-of-type {\n",
              "        vertical-align: middle;\n",
              "    }\n",
              "\n",
              "    .dataframe tbody tr th {\n",
              "        vertical-align: top;\n",
              "    }\n",
              "\n",
              "    .dataframe thead th {\n",
              "        text-align: right;\n",
              "    }\n",
              "</style>\n",
              "<table border=\"1\" class=\"dataframe\">\n",
              "  <thead>\n",
              "    <tr style=\"text-align: right;\">\n",
              "      <th></th>\n",
              "      <th>Symbol</th>\n",
              "      <th>Date</th>\n",
              "      <th>Expiry</th>\n",
              "      <th>Option Type</th>\n",
              "      <th>Strike Price</th>\n",
              "      <th>Open</th>\n",
              "      <th>High</th>\n",
              "      <th>Low</th>\n",
              "      <th>Close</th>\n",
              "      <th>LTP</th>\n",
              "      <th>Settle Price</th>\n",
              "      <th>No. of contracts</th>\n",
              "      <th>Turnover in Lacs</th>\n",
              "      <th>Premium Turnover in Lacs</th>\n",
              "      <th>Open Int</th>\n",
              "      <th>Change in OI</th>\n",
              "      <th>Underlying Value</th>\n",
              "    </tr>\n",
              "  </thead>\n",
              "  <tbody>\n",
              "    <tr>\n",
              "      <th>0</th>\n",
              "      <td>BANKNIFTY</td>\n",
              "      <td>28-May-2021</td>\n",
              "      <td>24-Jun-2021</td>\n",
              "      <td>CE</td>\n",
              "      <td>36000</td>\n",
              "      <td>849.95</td>\n",
              "      <td>924.50</td>\n",
              "      <td>665.60</td>\n",
              "      <td>730.80</td>\n",
              "      <td>743.30</td>\n",
              "      <td>730.80</td>\n",
              "      <td>26704</td>\n",
              "      <td>245464.26</td>\n",
              "      <td>5128.26</td>\n",
              "      <td>320700</td>\n",
              "      <td>116225</td>\n",
              "      <td>35141.45</td>\n",
              "    </tr>\n",
              "    <tr>\n",
              "      <th>1</th>\n",
              "      <td>BANKNIFTY</td>\n",
              "      <td>31-May-2021</td>\n",
              "      <td>24-Jun-2021</td>\n",
              "      <td>CE</td>\n",
              "      <td>36000</td>\n",
              "      <td>693.90</td>\n",
              "      <td>790.00</td>\n",
              "      <td>598.10</td>\n",
              "      <td>772.95</td>\n",
              "      <td>752.05</td>\n",
              "      <td>772.95</td>\n",
              "      <td>19525</td>\n",
              "      <td>179242.57</td>\n",
              "      <td>3517.57</td>\n",
              "      <td>331150</td>\n",
              "      <td>10450</td>\n",
              "      <td>-</td>\n",
              "    </tr>\n",
              "    <tr>\n",
              "      <th>2</th>\n",
              "      <td>BANKNIFTY</td>\n",
              "      <td>01-Jun-2021</td>\n",
              "      <td>24-Jun-2021</td>\n",
              "      <td>CE</td>\n",
              "      <td>36000</td>\n",
              "      <td>782.00</td>\n",
              "      <td>832.00</td>\n",
              "      <td>633.35</td>\n",
              "      <td>660.65</td>\n",
              "      <td>661.00</td>\n",
              "      <td>660.65</td>\n",
              "      <td>31536</td>\n",
              "      <td>289503.11</td>\n",
              "      <td>5679.11</td>\n",
              "      <td>313700</td>\n",
              "      <td>-17450</td>\n",
              "      <td>-</td>\n",
              "    </tr>\n",
              "    <tr>\n",
              "      <th>3</th>\n",
              "      <td>BANKNIFTY</td>\n",
              "      <td>02-Jun-2021</td>\n",
              "      <td>24-Jun-2021</td>\n",
              "      <td>CE</td>\n",
              "      <td>36000</td>\n",
              "      <td>575.50</td>\n",
              "      <td>625.95</td>\n",
              "      <td>533.85</td>\n",
              "      <td>612.70</td>\n",
              "      <td>606.85</td>\n",
              "      <td>612.70</td>\n",
              "      <td>19060</td>\n",
              "      <td>174293.32</td>\n",
              "      <td>2753.32</td>\n",
              "      <td>324475</td>\n",
              "      <td>10775</td>\n",
              "      <td>-</td>\n",
              "    </tr>\n",
              "    <tr>\n",
              "      <th>4</th>\n",
              "      <td>BANKNIFTY</td>\n",
              "      <td>03-Jun-2021</td>\n",
              "      <td>24-Jun-2021</td>\n",
              "      <td>CE</td>\n",
              "      <td>36000</td>\n",
              "      <td>659.05</td>\n",
              "      <td>753.90</td>\n",
              "      <td>596.50</td>\n",
              "      <td>698.40</td>\n",
              "      <td>696.00</td>\n",
              "      <td>698.40</td>\n",
              "      <td>24549</td>\n",
              "      <td>225062.12</td>\n",
              "      <td>4121.12</td>\n",
              "      <td>328425</td>\n",
              "      <td>3950</td>\n",
              "      <td>-</td>\n",
              "    </tr>\n",
              "  </tbody>\n",
              "</table>\n",
              "</div>\n",
              "      <button class=\"colab-df-convert\" onclick=\"convertToInteractive('df-8762a4d4-b2d8-4672-a576-15db7b111964')\"\n",
              "              title=\"Convert this dataframe to an interactive table.\"\n",
              "              style=\"display:none;\">\n",
              "        \n",
              "  <svg xmlns=\"http://www.w3.org/2000/svg\" height=\"24px\"viewBox=\"0 0 24 24\"\n",
              "       width=\"24px\">\n",
              "    <path d=\"M0 0h24v24H0V0z\" fill=\"none\"/>\n",
              "    <path d=\"M18.56 5.44l.94 2.06.94-2.06 2.06-.94-2.06-.94-.94-2.06-.94 2.06-2.06.94zm-11 1L8.5 8.5l.94-2.06 2.06-.94-2.06-.94L8.5 2.5l-.94 2.06-2.06.94zm10 10l.94 2.06.94-2.06 2.06-.94-2.06-.94-.94-2.06-.94 2.06-2.06.94z\"/><path d=\"M17.41 7.96l-1.37-1.37c-.4-.4-.92-.59-1.43-.59-.52 0-1.04.2-1.43.59L10.3 9.45l-7.72 7.72c-.78.78-.78 2.05 0 2.83L4 21.41c.39.39.9.59 1.41.59.51 0 1.02-.2 1.41-.59l7.78-7.78 2.81-2.81c.8-.78.8-2.07 0-2.86zM5.41 20L4 18.59l7.72-7.72 1.47 1.35L5.41 20z\"/>\n",
              "  </svg>\n",
              "      </button>\n",
              "      \n",
              "  <style>\n",
              "    .colab-df-container {\n",
              "      display:flex;\n",
              "      flex-wrap:wrap;\n",
              "      gap: 12px;\n",
              "    }\n",
              "\n",
              "    .colab-df-convert {\n",
              "      background-color: #E8F0FE;\n",
              "      border: none;\n",
              "      border-radius: 50%;\n",
              "      cursor: pointer;\n",
              "      display: none;\n",
              "      fill: #1967D2;\n",
              "      height: 32px;\n",
              "      padding: 0 0 0 0;\n",
              "      width: 32px;\n",
              "    }\n",
              "\n",
              "    .colab-df-convert:hover {\n",
              "      background-color: #E2EBFA;\n",
              "      box-shadow: 0px 1px 2px rgba(60, 64, 67, 0.3), 0px 1px 3px 1px rgba(60, 64, 67, 0.15);\n",
              "      fill: #174EA6;\n",
              "    }\n",
              "\n",
              "    [theme=dark] .colab-df-convert {\n",
              "      background-color: #3B4455;\n",
              "      fill: #D2E3FC;\n",
              "    }\n",
              "\n",
              "    [theme=dark] .colab-df-convert:hover {\n",
              "      background-color: #434B5C;\n",
              "      box-shadow: 0px 1px 3px 1px rgba(0, 0, 0, 0.15);\n",
              "      filter: drop-shadow(0px 1px 2px rgba(0, 0, 0, 0.3));\n",
              "      fill: #FFFFFF;\n",
              "    }\n",
              "  </style>\n",
              "\n",
              "      <script>\n",
              "        const buttonEl =\n",
              "          document.querySelector('#df-8762a4d4-b2d8-4672-a576-15db7b111964 button.colab-df-convert');\n",
              "        buttonEl.style.display =\n",
              "          google.colab.kernel.accessAllowed ? 'block' : 'none';\n",
              "\n",
              "        async function convertToInteractive(key) {\n",
              "          const element = document.querySelector('#df-8762a4d4-b2d8-4672-a576-15db7b111964');\n",
              "          const dataTable =\n",
              "            await google.colab.kernel.invokeFunction('convertToInteractive',\n",
              "                                                     [key], {});\n",
              "          if (!dataTable) return;\n",
              "\n",
              "          const docLinkHtml = 'Like what you see? Visit the ' +\n",
              "            '<a target=\"_blank\" href=https://colab.research.google.com/notebooks/data_table.ipynb>data table notebook</a>'\n",
              "            + ' to learn more about interactive tables.';\n",
              "          element.innerHTML = '';\n",
              "          dataTable['output_type'] = 'display_data';\n",
              "          await google.colab.output.renderOutput(dataTable, element);\n",
              "          const docLink = document.createElement('div');\n",
              "          docLink.innerHTML = docLinkHtml;\n",
              "          element.appendChild(docLink);\n",
              "        }\n",
              "      </script>\n",
              "    </div>\n",
              "  </div>\n",
              "  "
            ]
          },
          "metadata": {},
          "execution_count": 9
        }
      ],
      "source": [
        "df_call_36000 = pd.read_csv('/content/OPTIDX_BANKNIFTY_CE_28-May-2021_TO_24-Jun-2021.csv')\n",
        "df_call_36000.head()"
      ]
    },
    {
      "cell_type": "code",
      "execution_count": 10,
      "metadata": {
        "id": "OdNi1apQE2cz",
        "colab": {
          "base_uri": "https://localhost:8080/",
          "height": 255
        },
        "outputId": "7c536201-9695-428d-95f6-e41b3455ac3b"
      },
      "outputs": [
        {
          "output_type": "stream",
          "name": "stdout",
          "text": [
            "\r[*********************100%***********************]  1 of 1 completed\n"
          ]
        },
        {
          "output_type": "execute_result",
          "data": {
            "text/plain": [
              "                    Open          High           Low         Close  \\\n",
              "Date                                                                 \n",
              "2021-05-28  35345.648438  35436.648438  34977.199219  35141.449219   \n",
              "2021-05-31  35097.449219  35584.300781  34930.101562  35526.648438   \n",
              "2021-06-01  35639.750000  35713.898438  35241.199219  35337.199219   \n",
              "2021-06-02  35271.601562  35415.851562  35070.300781  35373.750000   \n",
              "2021-06-03  35536.449219  35723.699219  35413.000000  35649.000000   \n",
              "\n",
              "               Adj Close  Volume  \n",
              "Date                              \n",
              "2021-05-28  35141.449219       0  \n",
              "2021-05-31  35526.648438       0  \n",
              "2021-06-01  35337.199219       0  \n",
              "2021-06-02  35373.750000       0  \n",
              "2021-06-03  35649.000000       0  "
            ],
            "text/html": [
              "\n",
              "  <div id=\"df-604ad9d8-564a-4348-8bc9-add9956cd53f\">\n",
              "    <div class=\"colab-df-container\">\n",
              "      <div>\n",
              "<style scoped>\n",
              "    .dataframe tbody tr th:only-of-type {\n",
              "        vertical-align: middle;\n",
              "    }\n",
              "\n",
              "    .dataframe tbody tr th {\n",
              "        vertical-align: top;\n",
              "    }\n",
              "\n",
              "    .dataframe thead th {\n",
              "        text-align: right;\n",
              "    }\n",
              "</style>\n",
              "<table border=\"1\" class=\"dataframe\">\n",
              "  <thead>\n",
              "    <tr style=\"text-align: right;\">\n",
              "      <th></th>\n",
              "      <th>Open</th>\n",
              "      <th>High</th>\n",
              "      <th>Low</th>\n",
              "      <th>Close</th>\n",
              "      <th>Adj Close</th>\n",
              "      <th>Volume</th>\n",
              "    </tr>\n",
              "    <tr>\n",
              "      <th>Date</th>\n",
              "      <th></th>\n",
              "      <th></th>\n",
              "      <th></th>\n",
              "      <th></th>\n",
              "      <th></th>\n",
              "      <th></th>\n",
              "    </tr>\n",
              "  </thead>\n",
              "  <tbody>\n",
              "    <tr>\n",
              "      <th>2021-05-28</th>\n",
              "      <td>35345.648438</td>\n",
              "      <td>35436.648438</td>\n",
              "      <td>34977.199219</td>\n",
              "      <td>35141.449219</td>\n",
              "      <td>35141.449219</td>\n",
              "      <td>0</td>\n",
              "    </tr>\n",
              "    <tr>\n",
              "      <th>2021-05-31</th>\n",
              "      <td>35097.449219</td>\n",
              "      <td>35584.300781</td>\n",
              "      <td>34930.101562</td>\n",
              "      <td>35526.648438</td>\n",
              "      <td>35526.648438</td>\n",
              "      <td>0</td>\n",
              "    </tr>\n",
              "    <tr>\n",
              "      <th>2021-06-01</th>\n",
              "      <td>35639.750000</td>\n",
              "      <td>35713.898438</td>\n",
              "      <td>35241.199219</td>\n",
              "      <td>35337.199219</td>\n",
              "      <td>35337.199219</td>\n",
              "      <td>0</td>\n",
              "    </tr>\n",
              "    <tr>\n",
              "      <th>2021-06-02</th>\n",
              "      <td>35271.601562</td>\n",
              "      <td>35415.851562</td>\n",
              "      <td>35070.300781</td>\n",
              "      <td>35373.750000</td>\n",
              "      <td>35373.750000</td>\n",
              "      <td>0</td>\n",
              "    </tr>\n",
              "    <tr>\n",
              "      <th>2021-06-03</th>\n",
              "      <td>35536.449219</td>\n",
              "      <td>35723.699219</td>\n",
              "      <td>35413.000000</td>\n",
              "      <td>35649.000000</td>\n",
              "      <td>35649.000000</td>\n",
              "      <td>0</td>\n",
              "    </tr>\n",
              "  </tbody>\n",
              "</table>\n",
              "</div>\n",
              "      <button class=\"colab-df-convert\" onclick=\"convertToInteractive('df-604ad9d8-564a-4348-8bc9-add9956cd53f')\"\n",
              "              title=\"Convert this dataframe to an interactive table.\"\n",
              "              style=\"display:none;\">\n",
              "        \n",
              "  <svg xmlns=\"http://www.w3.org/2000/svg\" height=\"24px\"viewBox=\"0 0 24 24\"\n",
              "       width=\"24px\">\n",
              "    <path d=\"M0 0h24v24H0V0z\" fill=\"none\"/>\n",
              "    <path d=\"M18.56 5.44l.94 2.06.94-2.06 2.06-.94-2.06-.94-.94-2.06-.94 2.06-2.06.94zm-11 1L8.5 8.5l.94-2.06 2.06-.94-2.06-.94L8.5 2.5l-.94 2.06-2.06.94zm10 10l.94 2.06.94-2.06 2.06-.94-2.06-.94-.94-2.06-.94 2.06-2.06.94z\"/><path d=\"M17.41 7.96l-1.37-1.37c-.4-.4-.92-.59-1.43-.59-.52 0-1.04.2-1.43.59L10.3 9.45l-7.72 7.72c-.78.78-.78 2.05 0 2.83L4 21.41c.39.39.9.59 1.41.59.51 0 1.02-.2 1.41-.59l7.78-7.78 2.81-2.81c.8-.78.8-2.07 0-2.86zM5.41 20L4 18.59l7.72-7.72 1.47 1.35L5.41 20z\"/>\n",
              "  </svg>\n",
              "      </button>\n",
              "      \n",
              "  <style>\n",
              "    .colab-df-container {\n",
              "      display:flex;\n",
              "      flex-wrap:wrap;\n",
              "      gap: 12px;\n",
              "    }\n",
              "\n",
              "    .colab-df-convert {\n",
              "      background-color: #E8F0FE;\n",
              "      border: none;\n",
              "      border-radius: 50%;\n",
              "      cursor: pointer;\n",
              "      display: none;\n",
              "      fill: #1967D2;\n",
              "      height: 32px;\n",
              "      padding: 0 0 0 0;\n",
              "      width: 32px;\n",
              "    }\n",
              "\n",
              "    .colab-df-convert:hover {\n",
              "      background-color: #E2EBFA;\n",
              "      box-shadow: 0px 1px 2px rgba(60, 64, 67, 0.3), 0px 1px 3px 1px rgba(60, 64, 67, 0.15);\n",
              "      fill: #174EA6;\n",
              "    }\n",
              "\n",
              "    [theme=dark] .colab-df-convert {\n",
              "      background-color: #3B4455;\n",
              "      fill: #D2E3FC;\n",
              "    }\n",
              "\n",
              "    [theme=dark] .colab-df-convert:hover {\n",
              "      background-color: #434B5C;\n",
              "      box-shadow: 0px 1px 3px 1px rgba(0, 0, 0, 0.15);\n",
              "      filter: drop-shadow(0px 1px 2px rgba(0, 0, 0, 0.3));\n",
              "      fill: #FFFFFF;\n",
              "    }\n",
              "  </style>\n",
              "\n",
              "      <script>\n",
              "        const buttonEl =\n",
              "          document.querySelector('#df-604ad9d8-564a-4348-8bc9-add9956cd53f button.colab-df-convert');\n",
              "        buttonEl.style.display =\n",
              "          google.colab.kernel.accessAllowed ? 'block' : 'none';\n",
              "\n",
              "        async function convertToInteractive(key) {\n",
              "          const element = document.querySelector('#df-604ad9d8-564a-4348-8bc9-add9956cd53f');\n",
              "          const dataTable =\n",
              "            await google.colab.kernel.invokeFunction('convertToInteractive',\n",
              "                                                     [key], {});\n",
              "          if (!dataTable) return;\n",
              "\n",
              "          const docLinkHtml = 'Like what you see? Visit the ' +\n",
              "            '<a target=\"_blank\" href=https://colab.research.google.com/notebooks/data_table.ipynb>data table notebook</a>'\n",
              "            + ' to learn more about interactive tables.';\n",
              "          element.innerHTML = '';\n",
              "          dataTable['output_type'] = 'display_data';\n",
              "          await google.colab.output.renderOutput(dataTable, element);\n",
              "          const docLink = document.createElement('div');\n",
              "          docLink.innerHTML = docLinkHtml;\n",
              "          element.appendChild(docLink);\n",
              "        }\n",
              "      </script>\n",
              "    </div>\n",
              "  </div>\n",
              "  "
            ]
          },
          "metadata": {},
          "execution_count": 10
        }
      ],
      "source": [
        "symbol = '^NSEBANK'\n",
        "end = '2021-06-25'\n",
        "start = '2021-05-28'\n",
        "\n",
        "\n",
        "# Read data \n",
        "df = yf.download(symbol,start,end)\n",
        "\n",
        "df.head()"
      ]
    },
    {
      "cell_type": "code",
      "source": [
        "size = df.size"
      ],
      "metadata": {
        "id": "AsWnOgO3tAAX"
      },
      "execution_count": 11,
      "outputs": []
    },
    {
      "cell_type": "markdown",
      "metadata": {
        "id": "8z9nZqOME2c0"
      },
      "source": [
        "### Calculation of annual volatility and time remainig for expiry used in calculation of delta"
      ]
    },
    {
      "cell_type": "code",
      "execution_count": 12,
      "metadata": {
        "id": "MD-tOY88E2c0"
      },
      "outputs": [],
      "source": [
        "symbol = '^NSEBANK'\n",
        "end = '2021-05-28'\n",
        "start = '2020-05-28'\n",
        "\n",
        "\n",
        "# Read data \n",
        "#You need to read the from the files provided on NSE Bank for the time given above."
      ]
    },
    {
      "cell_type": "code",
      "execution_count": 13,
      "metadata": {
        "id": "fHKIhafJE2c1"
      },
      "outputs": [],
      "source": [
        "ret = df['Close'].pct_change()[1:]"
      ]
    },
    {
      "cell_type": "code",
      "execution_count": 14,
      "metadata": {
        "id": "s4VRF2EWE2c1",
        "colab": {
          "base_uri": "https://localhost:8080/"
        },
        "outputId": "1a8a4452-03d6-46c4-a422-d07b627619a2"
      },
      "outputs": [
        {
          "output_type": "execute_result",
          "data": {
            "text/plain": [
              "Date\n",
              "2021-05-31    0.010961\n",
              "2021-06-01   -0.005333\n",
              "2021-06-02    0.001034\n",
              "2021-06-03    0.007781\n",
              "2021-06-04   -0.010024\n",
              "Name: Close, dtype: float64"
            ]
          },
          "metadata": {},
          "execution_count": 14
        }
      ],
      "source": [
        "ret.head()"
      ]
    },
    {
      "cell_type": "code",
      "execution_count": 15,
      "metadata": {
        "id": "n6SDOj-CE2c2",
        "colab": {
          "base_uri": "https://localhost:8080/"
        },
        "outputId": "91d81a8c-871d-4906-fee7-0b5496e475ab"
      },
      "outputs": [
        {
          "output_type": "execute_result",
          "data": {
            "text/plain": [
              "0.007534349442956498"
            ]
          },
          "metadata": {},
          "execution_count": 15
        }
      ],
      "source": [
        "daily_vol = ret.std()\n",
        "daily_vol"
      ]
    },
    {
      "cell_type": "code",
      "execution_count": 16,
      "metadata": {
        "id": "-Ocb1XZdE2c2",
        "colab": {
          "base_uri": "https://localhost:8080/"
        },
        "outputId": "b69b5cc1-8e68-4047-c617-8abcc05e8c89"
      },
      "outputs": [
        {
          "output_type": "execute_result",
          "data": {
            "text/plain": [
              "0.08253466292067514"
            ]
          },
          "metadata": {},
          "execution_count": 16
        }
      ],
      "source": [
        "#calculate the Annual Volatility using the daily volatility given above.\n",
        "ann_vol = daily_vol*np.sqrt(size)\n",
        "ann_vol"
      ]
    },
    {
      "cell_type": "code",
      "execution_count": 17,
      "metadata": {
        "id": "8kOf2izOE2c3"
      },
      "outputs": [],
      "source": [
        "expiry = datetime.strptime('2021-06-24', '%Y-%m-%d')   #Expiry date"
      ]
    },
    {
      "cell_type": "code",
      "execution_count": 18,
      "metadata": {
        "id": "-yoknf1QE2c3",
        "colab": {
          "base_uri": "https://localhost:8080/",
          "height": 206
        },
        "outputId": "30f140a2-d874-4113-e80c-2a36c58b4dd4"
      },
      "outputs": [
        {
          "output_type": "execute_result",
          "data": {
            "text/plain": [
              "     Date\n",
              "0 27 days\n",
              "1 24 days\n",
              "2 23 days\n",
              "3 22 days\n",
              "4 21 days"
            ],
            "text/html": [
              "\n",
              "  <div id=\"df-0c769f0c-d8a1-492a-b97c-e81564a5e928\">\n",
              "    <div class=\"colab-df-container\">\n",
              "      <div>\n",
              "<style scoped>\n",
              "    .dataframe tbody tr th:only-of-type {\n",
              "        vertical-align: middle;\n",
              "    }\n",
              "\n",
              "    .dataframe tbody tr th {\n",
              "        vertical-align: top;\n",
              "    }\n",
              "\n",
              "    .dataframe thead th {\n",
              "        text-align: right;\n",
              "    }\n",
              "</style>\n",
              "<table border=\"1\" class=\"dataframe\">\n",
              "  <thead>\n",
              "    <tr style=\"text-align: right;\">\n",
              "      <th></th>\n",
              "      <th>Date</th>\n",
              "    </tr>\n",
              "  </thead>\n",
              "  <tbody>\n",
              "    <tr>\n",
              "      <th>0</th>\n",
              "      <td>27 days</td>\n",
              "    </tr>\n",
              "    <tr>\n",
              "      <th>1</th>\n",
              "      <td>24 days</td>\n",
              "    </tr>\n",
              "    <tr>\n",
              "      <th>2</th>\n",
              "      <td>23 days</td>\n",
              "    </tr>\n",
              "    <tr>\n",
              "      <th>3</th>\n",
              "      <td>22 days</td>\n",
              "    </tr>\n",
              "    <tr>\n",
              "      <th>4</th>\n",
              "      <td>21 days</td>\n",
              "    </tr>\n",
              "  </tbody>\n",
              "</table>\n",
              "</div>\n",
              "      <button class=\"colab-df-convert\" onclick=\"convertToInteractive('df-0c769f0c-d8a1-492a-b97c-e81564a5e928')\"\n",
              "              title=\"Convert this dataframe to an interactive table.\"\n",
              "              style=\"display:none;\">\n",
              "        \n",
              "  <svg xmlns=\"http://www.w3.org/2000/svg\" height=\"24px\"viewBox=\"0 0 24 24\"\n",
              "       width=\"24px\">\n",
              "    <path d=\"M0 0h24v24H0V0z\" fill=\"none\"/>\n",
              "    <path d=\"M18.56 5.44l.94 2.06.94-2.06 2.06-.94-2.06-.94-.94-2.06-.94 2.06-2.06.94zm-11 1L8.5 8.5l.94-2.06 2.06-.94-2.06-.94L8.5 2.5l-.94 2.06-2.06.94zm10 10l.94 2.06.94-2.06 2.06-.94-2.06-.94-.94-2.06-.94 2.06-2.06.94z\"/><path d=\"M17.41 7.96l-1.37-1.37c-.4-.4-.92-.59-1.43-.59-.52 0-1.04.2-1.43.59L10.3 9.45l-7.72 7.72c-.78.78-.78 2.05 0 2.83L4 21.41c.39.39.9.59 1.41.59.51 0 1.02-.2 1.41-.59l7.78-7.78 2.81-2.81c.8-.78.8-2.07 0-2.86zM5.41 20L4 18.59l7.72-7.72 1.47 1.35L5.41 20z\"/>\n",
              "  </svg>\n",
              "      </button>\n",
              "      \n",
              "  <style>\n",
              "    .colab-df-container {\n",
              "      display:flex;\n",
              "      flex-wrap:wrap;\n",
              "      gap: 12px;\n",
              "    }\n",
              "\n",
              "    .colab-df-convert {\n",
              "      background-color: #E8F0FE;\n",
              "      border: none;\n",
              "      border-radius: 50%;\n",
              "      cursor: pointer;\n",
              "      display: none;\n",
              "      fill: #1967D2;\n",
              "      height: 32px;\n",
              "      padding: 0 0 0 0;\n",
              "      width: 32px;\n",
              "    }\n",
              "\n",
              "    .colab-df-convert:hover {\n",
              "      background-color: #E2EBFA;\n",
              "      box-shadow: 0px 1px 2px rgba(60, 64, 67, 0.3), 0px 1px 3px 1px rgba(60, 64, 67, 0.15);\n",
              "      fill: #174EA6;\n",
              "    }\n",
              "\n",
              "    [theme=dark] .colab-df-convert {\n",
              "      background-color: #3B4455;\n",
              "      fill: #D2E3FC;\n",
              "    }\n",
              "\n",
              "    [theme=dark] .colab-df-convert:hover {\n",
              "      background-color: #434B5C;\n",
              "      box-shadow: 0px 1px 3px 1px rgba(0, 0, 0, 0.15);\n",
              "      filter: drop-shadow(0px 1px 2px rgba(0, 0, 0, 0.3));\n",
              "      fill: #FFFFFF;\n",
              "    }\n",
              "  </style>\n",
              "\n",
              "      <script>\n",
              "        const buttonEl =\n",
              "          document.querySelector('#df-0c769f0c-d8a1-492a-b97c-e81564a5e928 button.colab-df-convert');\n",
              "        buttonEl.style.display =\n",
              "          google.colab.kernel.accessAllowed ? 'block' : 'none';\n",
              "\n",
              "        async function convertToInteractive(key) {\n",
              "          const element = document.querySelector('#df-0c769f0c-d8a1-492a-b97c-e81564a5e928');\n",
              "          const dataTable =\n",
              "            await google.colab.kernel.invokeFunction('convertToInteractive',\n",
              "                                                     [key], {});\n",
              "          if (!dataTable) return;\n",
              "\n",
              "          const docLinkHtml = 'Like what you see? Visit the ' +\n",
              "            '<a target=\"_blank\" href=https://colab.research.google.com/notebooks/data_table.ipynb>data table notebook</a>'\n",
              "            + ' to learn more about interactive tables.';\n",
              "          element.innerHTML = '';\n",
              "          dataTable['output_type'] = 'display_data';\n",
              "          await google.colab.output.renderOutput(dataTable, element);\n",
              "          const docLink = document.createElement('div');\n",
              "          docLink.innerHTML = docLinkHtml;\n",
              "          element.appendChild(docLink);\n",
              "        }\n",
              "      </script>\n",
              "    </div>\n",
              "  </div>\n",
              "  "
            ]
          },
          "metadata": {},
          "execution_count": 18
        }
      ],
      "source": [
        "time = expiry-df.index    #Time left in days\n",
        "df1 = pd.DataFrame(time)\n",
        "df1.head()"
      ]
    },
    {
      "cell_type": "code",
      "execution_count": 19,
      "metadata": {
        "id": "FJFrnj9-E2c4",
        "colab": {
          "base_uri": "https://localhost:8080/"
        },
        "outputId": "e459f1d6-a2d6-4d04-ef3a-838b44821975"
      },
      "outputs": [
        {
          "output_type": "execute_result",
          "data": {
            "text/plain": [
              "0     27\n",
              "1     24\n",
              "2     23\n",
              "3     22\n",
              "4     21\n",
              "5     20\n",
              "6     17\n",
              "7     16\n",
              "8     15\n",
              "9     14\n",
              "10    13\n",
              "11    10\n",
              "12     9\n",
              "13     8\n",
              "14     7\n",
              "15     6\n",
              "16     3\n",
              "17     2\n",
              "18     1\n",
              "19     0\n",
              "Name: Date, dtype: int64"
            ]
          },
          "metadata": {},
          "execution_count": 19
        }
      ],
      "source": [
        "#Convert Time left in days to int data type\n",
        "t1 = df1[\"Date\"].dt.days\n",
        "t1"
      ]
    },
    {
      "cell_type": "markdown",
      "metadata": {
        "id": "FgnMtj7_E2c4"
      },
      "source": [
        "### Initial buying and selling"
      ]
    },
    {
      "cell_type": "code",
      "execution_count": 20,
      "metadata": {
        "id": "nGqd2GvsE2c4"
      },
      "outputs": [],
      "source": [
        "no_of_lots_fut = 10           #number of future lots we bought at start of the month\n",
        "buy_avg_future = df_fut['Open'][0]       #buying average of that lot\n",
        "lot_size = 25     #lot size of bank nifty\n",
        "delta = 1*no_of_lots_fut*lot_size    #taking delta of future is 1 as if banknifty changes by 1 the future would also change by 1\n",
        "delta_to_maintain = 0.8*delta #Maintain 0.8 delta per future contract"
      ]
    },
    {
      "cell_type": "code",
      "execution_count": 32,
      "metadata": {
        "id": "lqfa2YdPE2c5",
        "colab": {
          "base_uri": "https://localhost:8080/"
        },
        "outputId": "f18e18fb-4e2b-46cf-8341-115a3cedd656"
      },
      "outputs": [
        {
          "output_type": "execute_result",
          "data": {
            "text/plain": [
              "0.9999607757999021"
            ]
          },
          "metadata": {},
          "execution_count": 32
        }
      ],
      "source": [
        "flag = 'c'   #for call or put option\n",
        "S = df['Open'][0]    #price of the underlying\n",
        "K = 36000   #strike price\n",
        "t = time[0]/365   #time left to expiry in years\n",
        "sigma = ann_vol   #volatility\n",
        "r = 0.06  #risk free rate\n",
        "delta_per_lot_call = derivatives.delta(flag,df['Open'][0],K,t1[0],r,sigma) #Calculate delta per lot\n",
        "delta_per_lot_call"
      ]
    },
    {
      "cell_type": "code",
      "execution_count": 33,
      "metadata": {
        "id": "_GCdbh6iE2c5",
        "colab": {
          "base_uri": "https://localhost:8080/"
        },
        "outputId": "5d6cb017-73f2-4b38-c3a4-598809ca5f7c"
      },
      "outputs": [
        {
          "output_type": "execute_result",
          "data": {
            "text/plain": [
              "200.0"
            ]
          },
          "metadata": {},
          "execution_count": 33
        }
      ],
      "source": [
        "delta_to_maintain"
      ]
    },
    {
      "cell_type": "code",
      "execution_count": 34,
      "metadata": {
        "id": "M8TuuoGCE2c6",
        "colab": {
          "base_uri": "https://localhost:8080/"
        },
        "outputId": "98c8aecd-7bf1-4c55-c9c3-42347100797a"
      },
      "outputs": [
        {
          "output_type": "execute_result",
          "data": {
            "text/plain": [
              "250"
            ]
          },
          "metadata": {},
          "execution_count": 34
        }
      ],
      "source": [
        "delta"
      ]
    },
    {
      "cell_type": "code",
      "execution_count": 35,
      "metadata": {
        "id": "guVV7FCWE2c6"
      },
      "outputs": [],
      "source": [
        "number_of_lots_call = math.ceil((delta-delta_to_maintain)/delta_per_lot_call)  #Calculate Number of call lots we have to sell to keep delta of 200"
      ]
    },
    {
      "cell_type": "code",
      "execution_count": 36,
      "metadata": {
        "id": "j5ZAObpFE2c6",
        "colab": {
          "base_uri": "https://localhost:8080/"
        },
        "outputId": "2791c15c-cb45-496a-9cd3-1c3d42955759"
      },
      "outputs": [
        {
          "output_type": "execute_result",
          "data": {
            "text/plain": [
              "51"
            ]
          },
          "metadata": {},
          "execution_count": 36
        }
      ],
      "source": [
        "number_of_lots_call"
      ]
    },
    {
      "cell_type": "code",
      "execution_count": 37,
      "metadata": {
        "id": "92acckStE2c7",
        "colab": {
          "base_uri": "https://localhost:8080/"
        },
        "outputId": "0da6a8c8-b4a4-4e9c-bd59-df2a532ae7c7"
      },
      "outputs": [
        {
          "output_type": "execute_result",
          "data": {
            "text/plain": [
              "849.95"
            ]
          },
          "metadata": {},
          "execution_count": 37
        }
      ],
      "source": [
        "sell_avg_call = df_call_36000['Open'][0]  #selling avg of call \n",
        "sell_avg_call"
      ]
    },
    {
      "cell_type": "code",
      "execution_count": 38,
      "metadata": {
        "id": "u5dry9CNE2c7"
      },
      "outputs": [],
      "source": [
        "# Before moving on to managing delta, answer a few questions:\n",
        "\n",
        "#Q1 : What do you think would happen to the delta of call option as banknifty goes up? (increase/decrease) \n",
        "#Ans : increase\n",
        "\n",
        "#Q2 : So to manage the delta what would be done to call options already sold? (Buy some call options / Sell more) \n",
        "#Hint : Remember selling call options would give negative delta\n",
        "#Ans : Buy some call options"
      ]
    },
    {
      "cell_type": "markdown",
      "metadata": {
        "id": "JX8Nlrq8E2c8"
      },
      "source": [
        "### Managing delta"
      ]
    },
    {
      "cell_type": "code",
      "execution_count": 47,
      "metadata": {
        "id": "vmkLZoGhE2c8",
        "colab": {
          "base_uri": "https://localhost:8080/"
        },
        "outputId": "dae46bcb-fb2c-410d-f6d4-78bfd5fbe9c6"
      },
      "outputs": [
        {
          "output_type": "stream",
          "name": "stdout",
          "text": [
            "35321.8 35499.0 849.95 730.8\n",
            "35602.9 35499.0 693.9 772.95\n",
            "35454.1 35499.0 782.0 660.65\n",
            "35524.25 35499.0 575.5 612.7\n",
            "35781.95 35499.0 659.05 698.4\n",
            "35508.5 35499.0 677.1 549.15\n",
            "35622.2 35499.0 563.0 537.05\n",
            "35265.3 35499.0 501.95 349.15\n",
            "34929.35 35499.0 330.7 234.7\n",
            "35266.35 35499.0 218.95 306.15\n",
            "35169.35 35499.0 352.7 242.95\n",
            "35065.1 35499.0 192.6 172.55\n",
            "35330.4 35499.0 176.35 203.7\n",
            "35101.35 35499.0 177.25 145.05\n",
            "34682.2 35499.0 86.95 55.9\n",
            "34596.75 35499.0 57.3 32.05\n",
            "34911.1 35499.0 28.0 25.65\n",
            "34775.8 35499.0 64.05 14.7\n",
            "34611.9 35499.0 19.9 8.1\n"
          ]
        }
      ],
      "source": [
        "number_of_lots_call = math.ceil((delta-delta_to_maintain)/delta_per_lot_call)  #number of call lots we have to sell to keep delta of 200\n",
        "sell_avg_call = df_call_36000['Open'][0]  #selling avg of call \n",
        "profit= []\n",
        "\n",
        "for i in range(len(df)-1):\n",
        "    delta_per_lot_call = derivatives.delta(flag,df['Open'][i],K,t1[i],r,sigma) #Calculate delta per lot at the next closing day\n",
        "    current_number_of_lots_call = math.ceil((delta-delta_to_maintain)/delta_per_lot_call) #number of lots required to sell\n",
        "    no_of_lots_added = current_number_of_lots_call #number of lots added/subtracted for selling\n",
        "    sell_avg_call = df_call_36000['Open'][i]#new selling avg of call\n",
        "    number_of_lots_call = number_of_lots_call + no_of_lots_added #update number of lots of calls sold\n",
        "    profit.append((df_fut['Close'][i]-buy_avg_future)*no_of_lots_fut*lot_size + (sell_avg_call-df_call_36000['Close'][i])*lot_size*number_of_lots_call)  #unrealised profit \n",
        "    print(df_fut['Close'][i], buy_avg_future, sell_avg_call, df_call_36000['Close'][i])"
      ]
    },
    {
      "cell_type": "code",
      "execution_count": 41,
      "metadata": {
        "id": "nX1HzguLE2c8",
        "colab": {
          "base_uri": "https://localhost:8080/"
        },
        "outputId": "6cb5adec-2bbb-4aaf-a46f-34cc84fbd34c"
      },
      "outputs": [
        {
          "output_type": "execute_result",
          "data": {
            "text/plain": [
              "1070"
            ]
          },
          "metadata": {},
          "execution_count": 41
        }
      ],
      "source": [
        "#As you can see that the number of lots of call sold is way too many as the delta of out of money call option approches 0 in the end\n",
        "#Thus this strategy would practically be possible by changing the strike price of the call option as it goes deep out of money\n",
        "#But that would require much higher level programming thats why we have given this simple assignment jst theoretically make\n",
        "#you realise the power of hedging\n",
        "number_of_lots_call"
      ]
    },
    {
      "cell_type": "code",
      "execution_count": 48,
      "metadata": {
        "id": "PYs591BGE2c9",
        "colab": {
          "base_uri": "https://localhost:8080/"
        },
        "outputId": "5351d19f-e999-4210-9092-bb7276b3653c"
      },
      "outputs": [
        {
          "output_type": "execute_result",
          "data": {
            "text/plain": [
              "19.9"
            ]
          },
          "metadata": {},
          "execution_count": 48
        }
      ],
      "source": [
        "sell_avg_call"
      ]
    },
    {
      "cell_type": "code",
      "execution_count": 43,
      "metadata": {
        "id": "5FjY0bjwE2c9",
        "colab": {
          "base_uri": "https://localhost:8080/"
        },
        "outputId": "cc806ac7-fa78-4a07-add4-42b1695a9e69"
      },
      "outputs": [
        {
          "output_type": "execute_result",
          "data": {
            "text/plain": [
              "0.6540801117252579"
            ]
          },
          "metadata": {},
          "execution_count": 43
        }
      ],
      "source": [
        "delta_per_lot_call"
      ]
    },
    {
      "cell_type": "code",
      "execution_count": 44,
      "metadata": {
        "id": "M99IUsY0E2c-",
        "colab": {
          "base_uri": "https://localhost:8080/"
        },
        "outputId": "9d77f1de-9063-42a9-88a7-5920a1f1be3a"
      },
      "outputs": [
        {
          "output_type": "execute_result",
          "data": {
            "text/plain": [
              "[259532.50000000096,\n",
              " -276391.24999999994,\n",
              " 607659.9999999998,\n",
              " -230837.5000000003,\n",
              " -230290.0000000009,\n",
              " 1144328.7500000002,\n",
              " 295489.99999999977,\n",
              " 1694955.000000001,\n",
              " 1081587.4999999995,\n",
              " -1281142.5000000002,\n",
              " 1596762.4999999995,\n",
              " 223853.74999999936,\n",
              " -530347.4999999995,\n",
              " 516412.49999999953,\n",
              " 429996.2499999994,\n",
              " 323625.0,\n",
              " -92278.75000000032,\n",
              " 1044313.7500000005,\n",
              " 93875.00000000035]"
            ]
          },
          "metadata": {},
          "execution_count": 44
        }
      ],
      "source": [
        "profit"
      ]
    },
    {
      "cell_type": "code",
      "execution_count": 45,
      "metadata": {
        "id": "HsLZgkn9E2c-",
        "colab": {
          "base_uri": "https://localhost:8080/",
          "height": 293
        },
        "outputId": "0f93a847-1d97-4b14-9e35-fe04ba76a0ed"
      },
      "outputs": [
        {
          "output_type": "execute_result",
          "data": {
            "text/plain": [
              "<matplotlib.legend.Legend at 0x7fccc4a922b0>"
            ]
          },
          "metadata": {},
          "execution_count": 45
        },
        {
          "output_type": "display_data",
          "data": {
            "text/plain": [
              "<Figure size 432x288 with 1 Axes>"
            ],
            "image/png": "[encoded data removed]"
          },
          "metadata": {
            "needs_background": "light"
          }
        }
      ],
      "source": [
        "plt.plot(profit[:14], label = 'strategy_profit')\n",
        "plt.plot((df_fut['Close']-df_fut['Open'][0])[:14]*250, label = 'futures_profit')\n",
        "plt.legend()"
      ]
    },
    {
      "cell_type": "markdown",
      "metadata": {
        "id": "AID1g2RfE2c-"
      },
      "source": [
        "As you can see from the above graph of first first 14 days of the strategy that though the futures did fall very down but<br/>\n",
        "We were able to hedge this with selling of call option and our strategy did give better returns overall<br/>\n",
        "<br/>\n",
        "We didnt plot the whole graph as in the end many lots of call options were sold which is practically not possible<br/>"
      ]
    }
  ],
  "metadata": {
    "kernelspec": {
      "display_name": "Python 3",
      "language": "python",
      "name": "python3"
    },
    "language_info": {
      "codemirror_mode": {
        "name": "ipython",
        "version": 3
      },
      "file_extension": ".py",
      "mimetype": "text/x-python",
      "name": "python",
      "nbconvert_exporter": "python",
      "pygments_lexer": "ipython3",
      "version": "3.7.3"
    },
    "colab": {
      "provenance": []
    }
  },
  "nbformat": 4,
  "nbformat_minor": 0
}